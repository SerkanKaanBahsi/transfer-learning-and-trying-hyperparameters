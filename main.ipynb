{
  "nbformat": 4,
  "nbformat_minor": 0,
  "metadata": {
    "colab": {
      "name": "main.ipynb",
      "provenance": [],
      "toc_visible": true
    },
    "kernelspec": {
      "display_name": "Python 3",
      "name": "python3"
    }
  },
  "cells": [
    {
      "cell_type": "markdown",
      "metadata": {
        "id": "mlovpXT3FUme"
      },
      "source": [
        "# **Import Libraries**\r\n"
      ]
    },
    {
      "cell_type": "code",
      "metadata": {
        "id": "rWDfzVPNyPu9"
      },
      "source": [
        "import numpy as np\r\n",
        "import pandas as pd\r\n",
        "\r\n",
        "import tensorflow as tf\r\n",
        "from sklearn.metrics import precision_recall_fscore_support as score\r\n",
        "from keras.preprocessing.image import ImageDataGenerator\r\n",
        "from keras.applications.vgg16 import preprocess_input\r\n",
        "from keras.models import Sequential\r\n",
        "from keras import layers\r\n",
        "from keras.models import Model"
      ],
      "execution_count": 34,
      "outputs": []
    },
    {
      "cell_type": "markdown",
      "metadata": {
        "id": "qVXKLeNTG6iS"
      },
      "source": [
        "# Download Dataset to Colab"
      ]
    },
    {
      "cell_type": "code",
      "metadata": {
        "id": "ixmjhKF7HIwB"
      },
      "source": [
        "from google.colab import files\r\n",
        "files.upload()"
      ],
      "execution_count": null,
      "outputs": []
    },
    {
      "cell_type": "code",
      "metadata": {
        "id": "TGTkVCbZHA00"
      },
      "source": [
        "! mkdir ~/.kaggle\r\n",
        "! cp kaggle.json ~/.kaggle/\r\n",
        "! chmod 600 ~/.kaggle/kaggle.json\r\n",
        "! kaggle datasets download -d mengcius/cinic10\r\n",
        "! unzip cinic10.zip"
      ],
      "execution_count": null,
      "outputs": []
    },
    {
      "cell_type": "markdown",
      "metadata": {
        "id": "dGp3_uNOHMD3"
      },
      "source": [
        "# Get Train, Validation and Test Data"
      ]
    },
    {
      "cell_type": "code",
      "metadata": {
        "id": "0XGlDO_cHWhm"
      },
      "source": [
        "def get_cinic_data(train_path, valid_path, test_path, image_generator):\r\n",
        "\r\n",
        "  train_data = image_generator.flow_from_directory(\r\n",
        "    train_path,\r\n",
        "    target_size=(224, 224),\r\n",
        "    class_mode=\"sparse\",\r\n",
        "    batch_size=64,\r\n",
        "    shuffle=False,\r\n",
        "  )\r\n",
        "\r\n",
        "  validation_data = image_generator.flow_from_directory(\r\n",
        "    valid_path,\r\n",
        "    target_size=(224, 224),\r\n",
        "    class_mode=\"sparse\",\r\n",
        "    batch_size=64,\r\n",
        "    shuffle=False,\r\n",
        "  )\r\n",
        "\r\n",
        "  test_data = image_generator.flow_from_directory(\r\n",
        "    test_path,\r\n",
        "    target_size=(224, 224),\r\n",
        "    class_mode=\"sparse\",\r\n",
        "    batch_size=64,\r\n",
        "    shuffle=False,\r\n",
        "  )\r\n",
        "  \r\n",
        "  return train_data, validation_data, test_data"
      ],
      "execution_count": 28,
      "outputs": []
    },
    {
      "cell_type": "code",
      "metadata": {
        "id": "CaP2vVMOzLiQ"
      },
      "source": [
        "train_path = 'train'\r\n",
        "valid_path = 'valid'\r\n",
        "test_path = 'test'"
      ],
      "execution_count": 5,
      "outputs": []
    },
    {
      "cell_type": "code",
      "metadata": {
        "id": "YuRbqwg7-FgX"
      },
      "source": [
        "image_generator = ImageDataGenerator(rescale=1./255)"
      ],
      "execution_count": 26,
      "outputs": []
    },
    {
      "cell_type": "code",
      "metadata": {
        "id": "wa1Vlo34j72V"
      },
      "source": [
        "# If the model is going to be trained with VGG or Resnet Models\r\n",
        "image_generator = ImageDataGenerator(preprocessing_function=preprocess_input)"
      ],
      "execution_count": 29,
      "outputs": []
    },
    {
      "cell_type": "code",
      "metadata": {
        "id": "gzJ7mv6xIcYV"
      },
      "source": [
        "train_data, valid_data, test_data = get_cinic_data(train_path, \r\n",
        "                                                        valid_path, \r\n",
        "                                                        test_path, \r\n",
        "                                                        image_generator)"
      ],
      "execution_count": null,
      "outputs": []
    },
    {
      "cell_type": "markdown",
      "metadata": {
        "id": "MawH14EXJHuT"
      },
      "source": [
        "### Get Labels For Confussion Matrix\r\n"
      ]
    },
    {
      "cell_type": "code",
      "metadata": {
        "id": "gpEIsT1JI3dM"
      },
      "source": [
        "IMAGE_COUNT = 9000\r\n",
        "CLASS_COUNT =10"
      ],
      "execution_count": 12,
      "outputs": []
    },
    {
      "cell_type": "code",
      "metadata": {
        "id": "byRsUPlx4tPk"
      },
      "source": [
        "# Original labels of images\r\n",
        "def get_labels():\r\n",
        "  \r\n",
        "  y_true = []\r\n",
        "  for i in range(CLASS_COUNT):\r\n",
        "    for j in range(IMAGE_COUNT):\r\n",
        "      y_true.append(i)\r\n",
        "  return y_true"
      ],
      "execution_count": 13,
      "outputs": []
    },
    {
      "cell_type": "code",
      "metadata": {
        "id": "A7tsYFb8HmU5"
      },
      "source": [
        "y_true = get_labels()"
      ],
      "execution_count": 14,
      "outputs": []
    },
    {
      "cell_type": "markdown",
      "metadata": {
        "id": "JN94zxZSJWRL"
      },
      "source": [
        "# Functions"
      ]
    },
    {
      "cell_type": "code",
      "metadata": {
        "id": "yMrHtcdZH0xG"
      },
      "source": [
        "def get_confussion_matrix(predictions):\r\n",
        "  \r\n",
        "  y_pred = np.argmax(predictions, axis=1)\r\n",
        "\r\n",
        "  confussion_matrix = np.zeros((10,10))\r\n",
        "  k=-1\r\n",
        "  for i in range(len(y_pred)):\r\n",
        "    if i%IMAGE_COUNT == 0:\r\n",
        "      k+=1\r\n",
        "    confussion_matrix[k][y_pred[i]]+=1\r\n",
        "\r\n",
        "  df = pd.DataFrame(data=confussion_matrix.T, \r\n",
        "                    index=[\"airplane\", \"automobile\", \"bird\", \"cat\", \"deer\", \r\n",
        "                           \"dog\", \"frog\", \"horse\", \"ship\", \"truck\"],\r\n",
        "                  columns=[\"airplane\", \"automobile\", \"bird\", \"cat\", \"deer\", \r\n",
        "                           \"dog\", \"frog\", \"horse\", \"ship\", \"truck\"])\r\n",
        "  return df"
      ],
      "execution_count": 15,
      "outputs": []
    },
    {
      "cell_type": "code",
      "metadata": {
        "id": "U2YAQ5aH3CRq"
      },
      "source": [
        "def build_model(filter_size=32, kernel=3,dropout_number=0.2):\r\n",
        "  \r\n",
        "  model = Sequential()\r\n",
        "\r\n",
        "  #First Layer\r\n",
        "  model.add(layers.Conv2D(filter_size, \r\n",
        "                          kernel, \r\n",
        "                          activation=\"relu\",\r\n",
        "                          kernel_initializer='glorot_uniform',\r\n",
        "                          input_shape=(224,224,3)))\r\n",
        "  \r\n",
        "  model.add(layers.MaxPooling2D(2))\r\n",
        "  model.add(layers.Dropout(dropout_number))\r\n",
        "\r\n",
        "  #Second Layer\r\n",
        "  model.add(layers.Conv2D(filter_size, \r\n",
        "                          kernel, \r\n",
        "                          kernel_initializer='glorot_uniform', \r\n",
        "                          activation=\"relu\"))\r\n",
        "  \r\n",
        "  model.add(layers.MaxPooling2D(2))\r\n",
        "  model.add(layers.Dropout(dropout_number))\r\n",
        "\r\n",
        "  #Third Layer\r\n",
        "  model.add(layers.Conv2D(filter_size, \r\n",
        "                          kernel, \r\n",
        "                          kernel_initializer='glorot_uniform', \r\n",
        "                          activation=\"relu\"))\r\n",
        "  \r\n",
        "  model.add(layers.MaxPooling2D(2))\r\n",
        "  model.add(layers.Dropout(dropout_number))\r\n",
        "\r\n",
        "  model.add(layers.Flatten())\r\n",
        "  model.add(layers.Dense(256, activation=\"relu\"))\r\n",
        "  model.add(layers.Dense(10, activation=\"softmax\"))\r\n",
        "\r\n",
        "  model.compile(loss=\"sparse_categorical_crossentropy\", \r\n",
        "                optimizer=\"adam\", \r\n",
        "                metrics=[\"accuracy\"])\r\n",
        "\r\n",
        "  return model"
      ],
      "execution_count": 22,
      "outputs": []
    },
    {
      "cell_type": "code",
      "metadata": {
        "id": "3tNGNtmyGTA_"
      },
      "source": [
        "# To get f1, precission and recall scores\r\n",
        "def get_class_results(y_true, predictions):\r\n",
        "  \r\n",
        "  y_pred = np.argmax(predictions, axis=1)\r\n",
        "\r\n",
        "  precision, recall, f1, _ = score(y_true, y_pred)\r\n",
        "\r\n",
        "  class_df = pd.DataFrame(data=[precision, recall, f1], \r\n",
        "                          index=[\"precision\", \"recall\", \"f1\"],\r\n",
        "                          columns=[\"airplane\", \"automobile\", \"bird\", \"cat\", \r\n",
        "                                   \"deer\", \"dog\", \"frog\", \r\n",
        "                                   \"horse\", \"ship\", \"truck\"])\r\n",
        "  return class_df"
      ],
      "execution_count": 17,
      "outputs": []
    },
    {
      "cell_type": "markdown",
      "metadata": {
        "id": "CKOEIcBZ5ixL"
      },
      "source": [
        "# **Build Convolutional Neural Network Model**"
      ]
    },
    {
      "cell_type": "code",
      "metadata": {
        "id": "iiNjAK6Z4Zt8"
      },
      "source": [
        "model = build_model()\r\n",
        "model.summary()"
      ],
      "execution_count": null,
      "outputs": []
    },
    {
      "cell_type": "code",
      "metadata": {
        "id": "xogwjZjGHscX"
      },
      "source": [
        "history = model.fit(train_data, batch_size=64, \r\n",
        "                    epochs=10, validation_data=valid_data)"
      ],
      "execution_count": null,
      "outputs": []
    },
    {
      "cell_type": "code",
      "metadata": {
        "colab": {
          "background_save": true
        },
        "id": "C-33VsMFS4As"
      },
      "source": [
        "result = model.evaluate(test_data)"
      ],
      "execution_count": null,
      "outputs": []
    },
    {
      "cell_type": "code",
      "metadata": {
        "id": "pJq-rcfQIxW5"
      },
      "source": [
        "predictions = model.predict(test_data)\r\n",
        "\r\n",
        "confussion_df = get_confussion_matrix(predictions)\r\n",
        "\r\n",
        "f1_df = get_class_results(y_true, predictions)"
      ],
      "execution_count": null,
      "outputs": []
    },
    {
      "cell_type": "code",
      "metadata": {
        "id": "00vicefZJLrS"
      },
      "source": [
        "# Prints Confussion Matrix\r\n",
        "confussion_df"
      ],
      "execution_count": null,
      "outputs": []
    },
    {
      "cell_type": "code",
      "metadata": {
        "id": "jG8fiKA4JKq5"
      },
      "source": [
        "# Prints Precision Recall and F1 Score \r\n",
        "f1_df"
      ],
      "execution_count": null,
      "outputs": []
    },
    {
      "cell_type": "markdown",
      "metadata": {
        "id": "Cwrtozpxr15D"
      },
      "source": [
        "# Transfer Learning Functions"
      ]
    },
    {
      "cell_type": "code",
      "metadata": {
        "id": "6A5sl019r8vE"
      },
      "source": [
        "def create_trainable_model(pretrained_model, trainable_layers):\r\n",
        "  \r\n",
        "  for layer in pretrained_model.layers[:-trainable_layers]:\r\n",
        "    layer.trainable = False\r\n",
        "\r\n",
        "  pretrained_model._layers.pop()\r\n",
        "  new_layer = layers.Dense(1024, activation='relu')(pretrained_model.layers[-1].output)\r\n",
        "  output = layers.Dense(10, activation='softmax')(new_layer)\r\n",
        "  model = Model(inputs=pretrained_model.inputs, outputs=output)\r\n",
        "  print(model.summary)\r\n",
        "  \r\n",
        "  return model"
      ],
      "execution_count": 33,
      "outputs": []
    },
    {
      "cell_type": "markdown",
      "metadata": {
        "id": "OdDWgrWa5EAo"
      },
      "source": [
        "# **VGG-16**"
      ]
    },
    {
      "cell_type": "code",
      "metadata": {
        "id": "1RBs2hJyEN3V"
      },
      "source": [
        "from keras.applications.vgg16 import VGG16\r\n",
        "\r\n",
        "Vgg_model = VGG16()\r\n",
        "Vgg_model.summary()"
      ],
      "execution_count": null,
      "outputs": []
    },
    {
      "cell_type": "code",
      "metadata": {
        "id": "z9gpkBhluaZi"
      },
      "source": [
        "new_vgg_model = create_trainable_model(Vgg_model, 4)\r\n",
        "new_vgg_model.summary()"
      ],
      "execution_count": null,
      "outputs": []
    },
    {
      "cell_type": "code",
      "metadata": {
        "id": "Vi_yDHFG9N1X"
      },
      "source": [
        "vgg_history = new_vgg_model.fit(train_data, batch_size=64, \r\n",
        "                                epochs=10, validation_data=valid_data)"
      ],
      "execution_count": null,
      "outputs": []
    },
    {
      "cell_type": "code",
      "metadata": {
        "id": "k4hcunFp9OcA"
      },
      "source": [
        "vgg_test = new_vgg_model.evaluate(test_data)"
      ],
      "execution_count": null,
      "outputs": []
    },
    {
      "cell_type": "code",
      "metadata": {
        "id": "hQCYi-OA9Qs_"
      },
      "source": [
        "predictions =  new_vgg_model.predict(test_data)\r\n",
        "\r\n",
        "confussion_df = get_confussion_matrix(predictions)\r\n",
        "\r\n",
        "f1_df = get_class_results(y_true, predictions)"
      ],
      "execution_count": null,
      "outputs": []
    },
    {
      "cell_type": "code",
      "metadata": {
        "id": "Hmx3npBf9WUu"
      },
      "source": [
        "confussion_df"
      ],
      "execution_count": null,
      "outputs": []
    },
    {
      "cell_type": "code",
      "metadata": {
        "id": "RxHeo2Pc9Y2l"
      },
      "source": [
        "f1_df"
      ],
      "execution_count": null,
      "outputs": []
    },
    {
      "cell_type": "markdown",
      "metadata": {
        "id": "GXXTFjSz5UA0"
      },
      "source": [
        "# **Resnet-50**"
      ]
    },
    {
      "cell_type": "code",
      "metadata": {
        "id": "G1-qk9OdH2Lt"
      },
      "source": [
        "from keras.applications.resnet50 import ResNet50\r\n",
        "# load model\r\n",
        "resnet_model = ResNet50(include_top=True,weights='imagenet')"
      ],
      "execution_count": null,
      "outputs": []
    },
    {
      "cell_type": "code",
      "metadata": {
        "id": "PYW71_H_vQKK"
      },
      "source": [
        "new_resnet_model = create_trainable_model(resnet_model, 4)\r\n",
        "new_resnet_model.summary()"
      ],
      "execution_count": null,
      "outputs": []
    },
    {
      "cell_type": "code",
      "metadata": {
        "id": "yhCPS1DANs2K"
      },
      "source": [
        "history = model.fit(train_data, batch_size=64, \r\n",
        "                    epochs=10, validation_data=valid_data)"
      ],
      "execution_count": null,
      "outputs": []
    },
    {
      "cell_type": "code",
      "metadata": {
        "id": "IFk61MCbNxS6"
      },
      "source": [
        "results = model.evaluate(test_data)"
      ],
      "execution_count": null,
      "outputs": []
    },
    {
      "cell_type": "code",
      "metadata": {
        "id": "hHe3QQ1qN77u"
      },
      "source": [
        "predictions = model.predict(test_data)\r\n",
        "\r\n",
        "confussion_df = get_confussion_matrix(predictions)\r\n",
        "f1_df = get_class_results(y_true, predictions)"
      ],
      "execution_count": null,
      "outputs": []
    },
    {
      "cell_type": "code",
      "metadata": {
        "id": "xRiTqSiYOCrJ"
      },
      "source": [
        "confussion_df"
      ],
      "execution_count": null,
      "outputs": []
    },
    {
      "cell_type": "code",
      "metadata": {
        "id": "Vj59g0qYOGoS"
      },
      "source": [
        "f1_df"
      ],
      "execution_count": null,
      "outputs": []
    }
  ]
}